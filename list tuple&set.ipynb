{
 "cells": [
  {
   "cell_type": "code",
   "execution_count": 1,
   "id": "9efbcb4e-037d-44cd-8caa-f15dca7df9e5",
   "metadata": {},
   "outputs": [],
   "source": [
    "s1=\"this is srijan being progressinng in python language\""
   ]
  },
  {
   "cell_type": "code",
   "execution_count": 2,
   "id": "482cb8ef-6393-46dc-bfea-bea6ea7cd9bc",
   "metadata": {
    "collapsed": true,
    "jupyter": {
     "outputs_hidden": true
    },
    "tags": []
   },
   "outputs": [
    {
     "data": {
      "text/plain": [
       "<function str.center(width, fillchar=' ', /)>"
      ]
     },
     "execution_count": 2,
     "metadata": {},
     "output_type": "execute_result"
    }
   ],
   "source": [
    "s1.center"
   ]
  },
  {
   "cell_type": "code",
   "execution_count": 6,
   "id": "2564f9d1-d77b-403e-8c6a-e6b85455eef8",
   "metadata": {},
   "outputs": [],
   "source": [
    "s2=\" and learning a course on data science\""
   ]
  },
  {
   "cell_type": "code",
   "execution_count": 10,
   "id": "d26b0532-f1c8-46f6-a1a0-7e020459dcf7",
   "metadata": {},
   "outputs": [
    {
     "data": {
      "text/plain": [
       "'this is srijan being progressinng in python language and learning a course on data science'"
      ]
     },
     "execution_count": 10,
     "metadata": {},
     "output_type": "execute_result"
    }
   ],
   "source": [
    "s1+s2"
   ]
  },
  {
   "cell_type": "code",
   "execution_count": 11,
   "id": "66c4f67b-bf44-4f89-bcb8-a922704e75fd",
   "metadata": {},
   "outputs": [
    {
     "data": {
      "text/plain": [
       "'the fbfhdffbhhdheb ygfjv dgdfe gdhd dffhj\\ndgddjfuywjf\\nsrujan gayraga fe entc  bhaeatu  vusta peerg\\nhfjfgdurj dgdjdgf dgdjdbfh ndhdm'"
      ]
     },
     "execution_count": 11,
     "metadata": {},
     "output_type": "execute_result"
    }
   ],
   "source": [
    "\"\"\"the fbfhdffbhhdheb ygfjv dgdfe gdhd dffhj\n",
    "dgddjfuywjf\n",
    "srujan gayraga fe entc  bhaeatu  vusta peerg\n",
    "hfjfgdurj dgdjdgf dgdjdbfh ndhdm\"\"\"\n"
   ]
  },
  {
   "cell_type": "code",
   "execution_count": 1,
   "id": "aa92225f-0338-42c7-96e5-ab09b48a731d",
   "metadata": {},
   "outputs": [],
   "source": [
    "s = \"Srijan Gauraha\" \n"
   ]
  },
  {
   "cell_type": "code",
   "execution_count": 12,
   "id": "55680814-94bc-482f-b7db-a85439bba01a",
   "metadata": {},
   "outputs": [
    {
     "data": {
      "text/plain": [
       "['srijan', 234, 0.908]"
      ]
     },
     "execution_count": 12,
     "metadata": {},
     "output_type": "execute_result"
    }
   ],
   "source": [
    "s1"
   ]
  },
  {
   "cell_type": "code",
   "execution_count": null,
   "id": "fd502533-8aaf-4eed-ac54-3b04252894dd",
   "metadata": {},
   "outputs": [],
   "source": [
    "#list[]"
   ]
  },
  {
   "cell_type": "code",
   "execution_count": 14,
   "id": "e3494915-f462-4a40-bf86-b3ba1eb808d9",
   "metadata": {},
   "outputs": [],
   "source": [
    "s1= ['srijan',234,0.908] "
   ]
  },
  {
   "cell_type": "code",
   "execution_count": 8,
   "id": "996c878d-da17-406f-beeb-33a294451a50",
   "metadata": {},
   "outputs": [
    {
     "data": {
      "text/plain": [
       "['srijan', 234, 0.908]"
      ]
     },
     "execution_count": 8,
     "metadata": {},
     "output_type": "execute_result"
    }
   ],
   "source": [
    "list(s1)"
   ]
  },
  {
   "cell_type": "code",
   "execution_count": 9,
   "id": "f7ffb0f4-1d4f-4324-b5f7-4c7f2029a344",
   "metadata": {},
   "outputs": [
    {
     "data": {
      "text/plain": [
       "['srijan', 234, 0.908]"
      ]
     },
     "execution_count": 9,
     "metadata": {},
     "output_type": "execute_result"
    }
   ],
   "source": [
    "s1\n"
   ]
  },
  {
   "cell_type": "code",
   "execution_count": 11,
   "id": "142cdc23-f390-429a-a1a7-aea775ee950c",
   "metadata": {},
   "outputs": [
    {
     "data": {
      "text/plain": [
       "'j'"
      ]
     },
     "execution_count": 11,
     "metadata": {},
     "output_type": "execute_result"
    }
   ],
   "source": [
    "s1[0][3]"
   ]
  },
  {
   "cell_type": "code",
   "execution_count": 20,
   "id": "90c691d2-04e5-49c2-9e74-3d498ba7cb07",
   "metadata": {},
   "outputs": [],
   "source": [
    "s1.append(s)"
   ]
  },
  {
   "cell_type": "code",
   "execution_count": 18,
   "id": "b2a8bcfe-cbec-4523-b075-826969339674",
   "metadata": {},
   "outputs": [
    {
     "data": {
      "text/plain": [
       "['srijan', 234, 0.908, 'car', 'car']"
      ]
     },
     "execution_count": 18,
     "metadata": {},
     "output_type": "execute_result"
    }
   ],
   "source": [
    "s1"
   ]
  },
  {
   "cell_type": "code",
   "execution_count": 23,
   "id": "4456fd42-a4c6-457b-8569-b03a6c6cd3ff",
   "metadata": {},
   "outputs": [],
   "source": [
    "l1=[\"srijan\",632563,632.02356,22+7j,\"Gauraha\"]"
   ]
  },
  {
   "cell_type": "code",
   "execution_count": 25,
   "id": "be8d4911-6aa1-4974-84b9-e378d429d83f",
   "metadata": {},
   "outputs": [],
   "source": [
    "l2=[\"car\",\"bus\",56,78,96,123654789]"
   ]
  },
  {
   "cell_type": "code",
   "execution_count": 26,
   "id": "bb5f953a-194b-4436-a6aa-6c764670dacf",
   "metadata": {},
   "outputs": [
    {
     "data": {
      "text/plain": [
       "['srijan',\n",
       " 632563,\n",
       " 632.02356,\n",
       " (22+7j),\n",
       " 'Gauraha',\n",
       " 'car',\n",
       " 'bus',\n",
       " 56,\n",
       " 78,\n",
       " 96,\n",
       " 123654789]"
      ]
     },
     "execution_count": 26,
     "metadata": {},
     "output_type": "execute_result"
    }
   ],
   "source": [
    "l1+l2"
   ]
  },
  {
   "cell_type": "code",
   "execution_count": 33,
   "id": "c439fcb2-2459-43d9-b15e-1572c1d7d97e",
   "metadata": {},
   "outputs": [],
   "source": [
    "l1.append(l2)"
   ]
  },
  {
   "cell_type": "code",
   "execution_count": 34,
   "id": "fc6624dc-1db4-4f6d-ba42-059d3a316f7c",
   "metadata": {},
   "outputs": [
    {
     "data": {
      "text/plain": [
       "['srijan',\n",
       " 632563,\n",
       " 632.02356,\n",
       " (22+7j),\n",
       " 'Gauraha',\n",
       " 'bike',\n",
       " 'bike',\n",
       " 'bike',\n",
       " ['car', 'bus', 56, 78, 96, 123654789]]"
      ]
     },
     "execution_count": 34,
     "metadata": {},
     "output_type": "execute_result"
    }
   ],
   "source": [
    "l1"
   ]
  },
  {
   "cell_type": "code",
   "execution_count": 36,
   "id": "2e22ede3-d444-4eab-a645-8bc665cd6cbe",
   "metadata": {},
   "outputs": [
    {
     "data": {
      "text/plain": [
       "(22+7j)"
      ]
     },
     "execution_count": 36,
     "metadata": {},
     "output_type": "execute_result"
    }
   ],
   "source": [
    "l1[3]"
   ]
  },
  {
   "cell_type": "code",
   "execution_count": 37,
   "id": "80fb9272-b61d-49bf-86d8-69091907a889",
   "metadata": {},
   "outputs": [],
   "source": [
    "l1.insert(3,\"Damodar\")"
   ]
  },
  {
   "cell_type": "code",
   "execution_count": 38,
   "id": "9b9d64d4-3a2e-4420-a044-7503c52c0548",
   "metadata": {},
   "outputs": [
    {
     "data": {
      "text/plain": [
       "['srijan',\n",
       " 632563,\n",
       " 632.02356,\n",
       " 'Damodar',\n",
       " (22+7j),\n",
       " 'Gauraha',\n",
       " 'bike',\n",
       " 'bike',\n",
       " 'bike',\n",
       " ['car', 'bus', 56, 78, 96, 123654789]]"
      ]
     },
     "execution_count": 38,
     "metadata": {},
     "output_type": "execute_result"
    }
   ],
   "source": [
    "l1"
   ]
  },
  {
   "cell_type": "code",
   "execution_count": 42,
   "id": "18505fa9-fd44-4256-80c0-9f080e4eab24",
   "metadata": {},
   "outputs": [
    {
     "data": {
      "text/plain": [
       "'o'"
      ]
     },
     "execution_count": 42,
     "metadata": {},
     "output_type": "execute_result"
    }
   ],
   "source": [
    "l1[3][3]"
   ]
  },
  {
   "cell_type": "code",
   "execution_count": 45,
   "id": "d8370db4-c96a-4c34-b73d-af29c3113ff2",
   "metadata": {},
   "outputs": [],
   "source": [
    "l1.insert(-2,45)"
   ]
  },
  {
   "cell_type": "code",
   "execution_count": 46,
   "id": "b2a98cdd-f6d2-428c-888b-29b1096e4ada",
   "metadata": {},
   "outputs": [
    {
     "data": {
      "text/plain": [
       "['srijan',\n",
       " 632563,\n",
       " 632.02356,\n",
       " 'Damodar',\n",
       " (22+7j),\n",
       " 'Gauraha',\n",
       " 'bike',\n",
       " 'bike',\n",
       " 'bike',\n",
       " 45,\n",
       " 45,\n",
       " ['car', 'bus', 56, 78, 96, 123654789]]"
      ]
     },
     "execution_count": 46,
     "metadata": {},
     "output_type": "execute_result"
    }
   ],
   "source": [
    "l1"
   ]
  },
  {
   "cell_type": "code",
   "execution_count": 48,
   "id": "1f5429db-02ab-4af7-b77d-f9721c3adab6",
   "metadata": {},
   "outputs": [],
   "source": [
    "l1.insert(-3,56)"
   ]
  },
  {
   "cell_type": "code",
   "execution_count": 49,
   "id": "a4ac5753-d5d4-4b63-b4b8-18de6974295a",
   "metadata": {},
   "outputs": [
    {
     "data": {
      "text/plain": [
       "['srijan',\n",
       " 632563,\n",
       " 632.02356,\n",
       " 'Damodar',\n",
       " (22+7j),\n",
       " 'Gauraha',\n",
       " 'bike',\n",
       " 'bike',\n",
       " 'bike',\n",
       " 56,\n",
       " 45,\n",
       " 45,\n",
       " ['car', 'bus', 56, 78, 96, 123654789]]"
      ]
     },
     "execution_count": 49,
     "metadata": {},
     "output_type": "execute_result"
    }
   ],
   "source": [
    "l1"
   ]
  },
  {
   "cell_type": "code",
   "execution_count": 50,
   "id": "0c95810b-6882-4cf9-8937-731404cc61b7",
   "metadata": {},
   "outputs": [
    {
     "data": {
      "text/plain": [
       "['car', 'bus', 56, 78, 96, 123654789]"
      ]
     },
     "execution_count": 50,
     "metadata": {},
     "output_type": "execute_result"
    }
   ],
   "source": [
    "l2"
   ]
  },
  {
   "cell_type": "code",
   "execution_count": 54,
   "id": "7ec8b326-f4c0-433b-9359-6914c1933f33",
   "metadata": {},
   "outputs": [
    {
     "data": {
      "text/plain": [
       "78"
      ]
     },
     "execution_count": 54,
     "metadata": {},
     "output_type": "execute_result"
    }
   ],
   "source": [
    "l2.pop(3)"
   ]
  },
  {
   "cell_type": "code",
   "execution_count": 55,
   "id": "a9902a09-0d6a-47e9-91e4-4d8b7ef3d077",
   "metadata": {},
   "outputs": [
    {
     "data": {
      "text/plain": [
       "['car', 'bus', 56, 96]"
      ]
     },
     "execution_count": 55,
     "metadata": {},
     "output_type": "execute_result"
    }
   ],
   "source": [
    "l2"
   ]
  },
  {
   "cell_type": "code",
   "execution_count": 57,
   "id": "97bd170c-8d16-4137-8ee9-4195e7a1f2c4",
   "metadata": {},
   "outputs": [],
   "source": [
    "l2.remove(\"car\")"
   ]
  },
  {
   "cell_type": "code",
   "execution_count": 58,
   "id": "ae4f7f22-34d7-4bb1-bacc-cb03546015bb",
   "metadata": {},
   "outputs": [
    {
     "data": {
      "text/plain": [
       "['bus', 56, 96]"
      ]
     },
     "execution_count": 58,
     "metadata": {},
     "output_type": "execute_result"
    }
   ],
   "source": [
    "l2"
   ]
  },
  {
   "cell_type": "code",
   "execution_count": 59,
   "id": "cd3391f4-4aa7-4d95-9237-7149970c8088",
   "metadata": {},
   "outputs": [],
   "source": [
    "l2.remove('bus')"
   ]
  },
  {
   "cell_type": "code",
   "execution_count": 60,
   "id": "9ef2ac6d-709c-49f6-b41d-393f871e09c0",
   "metadata": {},
   "outputs": [
    {
     "data": {
      "text/plain": [
       "[56, 96]"
      ]
     },
     "execution_count": 60,
     "metadata": {},
     "output_type": "execute_result"
    }
   ],
   "source": [
    "l2"
   ]
  },
  {
   "cell_type": "code",
   "execution_count": 61,
   "id": "00c2da84-8af4-457d-a565-74b7cb355edb",
   "metadata": {},
   "outputs": [
    {
     "data": {
      "text/plain": [
       "['srijan',\n",
       " 632563,\n",
       " 632.02356,\n",
       " 'Damodar',\n",
       " (22+7j),\n",
       " 'Gauraha',\n",
       " 'bike',\n",
       " 'bike',\n",
       " 'bike',\n",
       " 56,\n",
       " 45,\n",
       " 45,\n",
       " [56, 96]]"
      ]
     },
     "execution_count": 61,
     "metadata": {},
     "output_type": "execute_result"
    }
   ],
   "source": [
    "l1"
   ]
  },
  {
   "cell_type": "code",
   "execution_count": 62,
   "id": "9ade95b1-1f3b-4c1a-86c8-ad5921a41d12",
   "metadata": {},
   "outputs": [],
   "source": [
    "l1.remove(56)"
   ]
  },
  {
   "cell_type": "code",
   "execution_count": 63,
   "id": "8278bc76-af92-433c-9161-4a02fb350aa5",
   "metadata": {},
   "outputs": [
    {
     "data": {
      "text/plain": [
       "['srijan',\n",
       " 632563,\n",
       " 632.02356,\n",
       " 'Damodar',\n",
       " (22+7j),\n",
       " 'Gauraha',\n",
       " 'bike',\n",
       " 'bike',\n",
       " 'bike',\n",
       " 45,\n",
       " 45,\n",
       " [56, 96]]"
      ]
     },
     "execution_count": 63,
     "metadata": {},
     "output_type": "execute_result"
    }
   ],
   "source": [
    "l1"
   ]
  },
  {
   "cell_type": "code",
   "execution_count": 65,
   "id": "0720bd6b-9e18-49e0-8945-291b17f7a3ab",
   "metadata": {},
   "outputs": [],
   "source": [
    "l1[-1].remove(96)"
   ]
  },
  {
   "cell_type": "code",
   "execution_count": 66,
   "id": "8a3026ef-b73a-4953-9159-6c32f458e9bd",
   "metadata": {},
   "outputs": [
    {
     "data": {
      "text/plain": [
       "['srijan',\n",
       " 632563,\n",
       " 632.02356,\n",
       " 'Damodar',\n",
       " (22+7j),\n",
       " 'Gauraha',\n",
       " 'bike',\n",
       " 'bike',\n",
       " 'bike',\n",
       " 45,\n",
       " 45,\n",
       " [56]]"
      ]
     },
     "execution_count": 66,
     "metadata": {},
     "output_type": "execute_result"
    }
   ],
   "source": [
    "l1"
   ]
  },
  {
   "cell_type": "code",
   "execution_count": 67,
   "id": "79b49cda-bb23-47ec-ad1b-a44661e01e66",
   "metadata": {},
   "outputs": [],
   "source": [
    "l1.remove(45)"
   ]
  },
  {
   "cell_type": "code",
   "execution_count": 68,
   "id": "3d816b3d-0697-45eb-8285-09417fb00c61",
   "metadata": {},
   "outputs": [
    {
     "data": {
      "text/plain": [
       "['srijan',\n",
       " 632563,\n",
       " 632.02356,\n",
       " 'Damodar',\n",
       " (22+7j),\n",
       " 'Gauraha',\n",
       " 'bike',\n",
       " 'bike',\n",
       " 'bike',\n",
       " 45,\n",
       " [56]]"
      ]
     },
     "execution_count": 68,
     "metadata": {},
     "output_type": "execute_result"
    }
   ],
   "source": [
    "l1"
   ]
  },
  {
   "cell_type": "code",
   "execution_count": 69,
   "id": "38410a4a-4f34-4e9f-b243-b61c5aebe33d",
   "metadata": {},
   "outputs": [
    {
     "data": {
      "text/plain": [
       "[[56],\n",
       " 45,\n",
       " 'bike',\n",
       " 'bike',\n",
       " 'bike',\n",
       " 'Gauraha',\n",
       " (22+7j),\n",
       " 'Damodar',\n",
       " 632.02356,\n",
       " 632563,\n",
       " 'srijan']"
      ]
     },
     "execution_count": 69,
     "metadata": {},
     "output_type": "execute_result"
    }
   ],
   "source": [
    "l1[::-1]"
   ]
  },
  {
   "cell_type": "code",
   "execution_count": 70,
   "id": "a39ee7d3-1a6d-4fde-b38d-4e6717d4d148",
   "metadata": {},
   "outputs": [],
   "source": [
    "l1.reverse()"
   ]
  },
  {
   "cell_type": "code",
   "execution_count": 71,
   "id": "9692cabb-febd-47d5-b1c4-840b5859dd65",
   "metadata": {},
   "outputs": [
    {
     "data": {
      "text/plain": [
       "[[56],\n",
       " 45,\n",
       " 'bike',\n",
       " 'bike',\n",
       " 'bike',\n",
       " 'Gauraha',\n",
       " (22+7j),\n",
       " 'Damodar',\n",
       " 632.02356,\n",
       " 632563,\n",
       " 'srijan']"
      ]
     },
     "execution_count": 71,
     "metadata": {},
     "output_type": "execute_result"
    }
   ],
   "source": [
    "l1"
   ]
  },
  {
   "cell_type": "code",
   "execution_count": null,
   "id": "a190cd35-884b-49dd-9189-fe4cbd17aeea",
   "metadata": {},
   "outputs": [],
   "source": [
    "l3 = [5,569,35,2,6,36,8,0,25896,12,21,5,254]"
   ]
  },
  {
   "cell_type": "code",
   "execution_count": 76,
   "id": "829bd8ea-6821-4619-a1ad-6ac6397349b6",
   "metadata": {},
   "outputs": [
    {
     "ename": "NameError",
     "evalue": "name 'l3' is not defined",
     "output_type": "error",
     "traceback": [
      "\u001b[0;31m---------------------------------------------------------------------------\u001b[0m",
      "\u001b[0;31mNameError\u001b[0m                                 Traceback (most recent call last)",
      "Cell \u001b[0;32mIn[76], line 1\u001b[0m\n\u001b[0;32m----> 1\u001b[0m \u001b[43ml3\u001b[49m\u001b[38;5;241m.\u001b[39msort()\n",
      "\u001b[0;31mNameError\u001b[0m: name 'l3' is not defined"
     ]
    }
   ],
   "source": [
    "l3.sort()"
   ]
  },
  {
   "cell_type": "code",
   "execution_count": null,
   "id": "022d97cb-a477-4aa5-87de-cf54585db910",
   "metadata": {},
   "outputs": [],
   "source": [
    "l3"
   ]
  },
  {
   "cell_type": "code",
   "execution_count": 83,
   "id": "a7d4c702-0d8e-4ad0-b0a8-e8558607ed5c",
   "metadata": {},
   "outputs": [],
   "source": [
    "l4 = ['samruddhi','shende',45]"
   ]
  },
  {
   "cell_type": "code",
   "execution_count": 84,
   "id": "e25fe924-ad49-4933-ba14-2f98a51d3dd2",
   "metadata": {},
   "outputs": [],
   "source": [
    "l4[0]='sri'"
   ]
  },
  {
   "cell_type": "code",
   "execution_count": 85,
   "id": "a8c421e3-a89e-4209-ab2f-f4c2f2194964",
   "metadata": {},
   "outputs": [
    {
     "data": {
      "text/plain": [
       "['sri', 'shende', 45]"
      ]
     },
     "execution_count": 85,
     "metadata": {},
     "output_type": "execute_result"
    }
   ],
   "source": [
    "l4"
   ]
  },
  {
   "cell_type": "code",
   "execution_count": 88,
   "id": "47e7dcd2-0f60-428f-a1ad-217b2e677c92",
   "metadata": {},
   "outputs": [],
   "source": [
    "l4[2]= 'srijan'"
   ]
  },
  {
   "cell_type": "code",
   "execution_count": 89,
   "id": "8ad4efce-cf87-4d8f-acf5-48fd782b773c",
   "metadata": {},
   "outputs": [
    {
     "data": {
      "text/plain": [
       "['5', 'shende', 'srijan']"
      ]
     },
     "execution_count": 89,
     "metadata": {},
     "output_type": "execute_result"
    }
   ],
   "source": [
    "l4"
   ]
  },
  {
   "cell_type": "code",
   "execution_count": 90,
   "id": "8ace0f56-77a0-46ab-bbd7-5889b0ee1039",
   "metadata": {},
   "outputs": [],
   "source": [
    "d='srijan'"
   ]
  },
  {
   "cell_type": "code",
   "execution_count": 91,
   "id": "bd16f918-e1c8-459d-86e6-9c7e6fb9d0f7",
   "metadata": {},
   "outputs": [
    {
     "data": {
      "text/plain": [
       "'srijan'"
      ]
     },
     "execution_count": 91,
     "metadata": {},
     "output_type": "execute_result"
    }
   ],
   "source": [
    "d"
   ]
  },
  {
   "cell_type": "code",
   "execution_count": null,
   "id": "379f0e95-e1e7-4b17-9124-04808cba5357",
   "metadata": {},
   "outputs": [],
   "source": [
    "#tuple()"
   ]
  },
  {
   "cell_type": "code",
   "execution_count": 100,
   "id": "707c0d3c-ef0f-41f9-aefd-22c6ff59a663",
   "metadata": {},
   "outputs": [],
   "source": [
    "t = (2,3,4,5,6,25.56, False,2,2,2,2,2,2,2,2)"
   ]
  },
  {
   "cell_type": "code",
   "execution_count": 92,
   "id": "27d11a7a-619b-447b-9f7d-5b90c0f110d2",
   "metadata": {},
   "outputs": [
    {
     "data": {
      "text/plain": [
       "'siijan'"
      ]
     },
     "execution_count": 92,
     "metadata": {},
     "output_type": "execute_result"
    }
   ],
   "source": [
    "d.replace('r','i')\n"
   ]
  },
  {
   "cell_type": "code",
   "execution_count": 101,
   "id": "fa7bc7a1-b0b7-4959-a1d2-316f3b495e36",
   "metadata": {},
   "outputs": [
    {
     "data": {
      "text/plain": [
       "(2, 2, 2, 2, 2, 2, 2, 2, False, 25.56, 6, 5, 4, 3, 2)"
      ]
     },
     "execution_count": 101,
     "metadata": {},
     "output_type": "execute_result"
    }
   ],
   "source": [
    "t[::-1]"
   ]
  },
  {
   "cell_type": "code",
   "execution_count": 103,
   "id": "71afa10e-7ce1-4698-8277-40d3613ad020",
   "metadata": {},
   "outputs": [
    {
     "data": {
      "text/plain": [
       "0"
      ]
     },
     "execution_count": 103,
     "metadata": {},
     "output_type": "execute_result"
    }
   ],
   "source": [
    "t.index(2)"
   ]
  },
  {
   "cell_type": "code",
   "execution_count": 104,
   "id": "17a64a0d-9d53-48a4-b79e-406e4ae0cf00",
   "metadata": {},
   "outputs": [],
   "source": [
    "#set{}\n"
   ]
  },
  {
   "cell_type": "code",
   "execution_count": 3,
   "id": "480bf760-f8b0-44fd-ab4d-f4ddabc9f47e",
   "metadata": {},
   "outputs": [],
   "source": [
    "s7={2,5,6,6,6,6,6,6,6,6,6,6,6,2,2,2,2,\"sri\",\"sri\",7,8,7,8,7,8,7,8,7,8,7,8,}"
   ]
  },
  {
   "cell_type": "code",
   "execution_count": 4,
   "id": "f9492492-27fe-4d78-a619-446df630c721",
   "metadata": {},
   "outputs": [
    {
     "data": {
      "text/plain": [
       "{2, 5, 6, 7, 8, 'sri'}"
      ]
     },
     "execution_count": 4,
     "metadata": {},
     "output_type": "execute_result"
    }
   ],
   "source": [
    "s7"
   ]
  },
  {
   "cell_type": "code",
   "execution_count": null,
   "id": "7c34a215-9be7-4099-be6e-b6d2fe47bc27",
   "metadata": {},
   "outputs": [],
   "source": []
  }
 ],
 "metadata": {
  "kernelspec": {
   "display_name": "Python 3 (ipykernel)",
   "language": "python",
   "name": "python3"
  },
  "language_info": {
   "codemirror_mode": {
    "name": "ipython",
    "version": 3
   },
   "file_extension": ".py",
   "mimetype": "text/x-python",
   "name": "python",
   "nbconvert_exporter": "python",
   "pygments_lexer": "ipython3",
   "version": "3.10.8"
  }
 },
 "nbformat": 4,
 "nbformat_minor": 5
}
